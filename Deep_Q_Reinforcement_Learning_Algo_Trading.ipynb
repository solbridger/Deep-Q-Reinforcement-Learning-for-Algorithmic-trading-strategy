{
  "nbformat": 4,
  "nbformat_minor": 0,
  "metadata": {
    "colab": {
      "name": "Deep_Q_Reinforcement_Learning_Algo_Trading.ipynb",
      "provenance": [],
      "collapsed_sections": []
    },
    "kernelspec": {
      "name": "python3",
      "display_name": "Python 3"
    },
    "language_info": {
      "name": "python"
    }
  },
  "cells": [
    {
      "cell_type": "code",
      "source": [
        "!pip install alpaca-trade-api\n",
        "!pip install transformers\n",
        "!pip install nltk\n",
        "!pip install ipython ipykernel --upgrade\n",
        "# !pip install pandas-profiling"
      ],
      "metadata": {
        "id": "mG-YX6EtvxXP"
      },
      "execution_count": null,
      "outputs": []
    },
    {
      "cell_type": "code",
      "source": [
        "import alpaca_trade_api as alp\n",
        "from transformers import pipeline\n",
        "import keras\n",
        "import tensorflow as tf\n",
        "import matplotlib.pyplot as plt\n",
        "import sys, os, glob, random, time\n",
        "import numpy as np\n",
        "import sklearn as sk\n",
        "import pandas as pd\n",
        "import re\n",
        "import nltk\n",
        "from collections import deque"
      ],
      "metadata": {
        "id": "yqOPvv-24bR-"
      },
      "execution_count": null,
      "outputs": []
    },
    {
      "cell_type": "markdown",
      "source": [
        "Retrieve market data \n"
      ],
      "metadata": {
        "id": "b8yg00YT7xZl"
      }
    },
    {
      "cell_type": "code",
      "source": [
        "from alpaca_trade_api.rest import REST, TimeFrame, TimeFrameUnit\n",
        "# Secret key must to be changed if regenerating the key id\n",
        "api_key = ''\n",
        "secret_key = ''\n",
        "\n",
        "# api = REST(api_key, secret_key)\n",
        "# start_date = '2021-01-01'; end_date = '2022-01-01'\n",
        "# btc_bars = api.get_crypto_bars('BTCUSD', TimeFrame.Day, start_date, end_date).df # get_trades, get_quotes, ETHUSD\n",
        "# btc_bars\n",
        "# stock_choice = 'TSLA' # 'AAPL','AMD','AMZN','FB','GOOG','GOOGL','MSFT','NFLX','NVDA'\n",
        "# stock_bars = api.get_bars(stock_choice, TimeFrame.Day, start_date, end_date).df\n",
        "# stock_bars"
      ],
      "metadata": {
        "id": "P0LAy-QH71En"
      },
      "execution_count": null,
      "outputs": []
    },
    {
      "cell_type": "markdown",
      "source": [
        "Retrieve news data"
      ],
      "metadata": {
        "id": "qz_qE_j0xaCb"
      }
    },
    {
      "cell_type": "code",
      "source": [
        "from alpaca_trade_api.stream import Stream\n",
        "# For historic data use the REST class, for live data use the Stream class\n",
        "rest_client = REST(api_key, secret_key)\n",
        "stream_client = Stream(api_key, secret_key)"
      ],
      "metadata": {
        "id": "U5qLyRVNxZBv"
      },
      "execution_count": null,
      "outputs": []
    },
    {
      "cell_type": "markdown",
      "source": [
        "Transformer sentiment analysis using (HuggingFace) BERT network"
      ],
      "metadata": {
        "id": "gp-cF52-0Bf_"
      }
    },
    {
      "cell_type": "code",
      "source": [
        "from nltk.tokenize import word_tokenize\n",
        "from nltk.corpus import stopwords\n",
        "nltk.download('punkt')\n",
        "nltk.download('stopwords')\n",
        "classifier1 = pipeline('sentiment-analysis', model = 'distilbert-base-uncased-finetuned-sst-2-english')\n",
        "classifier2 = pipeline('sentiment-analysis', model = 'finiteautomata/bertweet-base-sentiment-analysis')\n",
        "classifier = classifier2\n",
        "\n",
        "def news_data_processor(news):\n",
        "  date = str(news.created_at)[:10]\n",
        "  summary = news.summary\n",
        "  headline = news.headline\n",
        "  text = headline + ' ' + summary\n",
        "  # sentiment = classifier(text)\n",
        "  word_list = word_tokenize(text)\n",
        "  words = [word for word in word_list if word.isalpha()]\n",
        "\n",
        "  stop_words = set(stopwords.words('english'))\n",
        "  filtered_words = [w for w in words if not w in stop_words]\n",
        "\n",
        "  sentence = ' '.join(filtered_words)\n",
        "  sentiment = classifier(sentence)\n",
        "\n",
        "  return sentence, sentiment, date\n",
        "\n",
        "# for i in range(0):\n",
        "#   test = news_data_loader(news[i])[0]\n",
        "#   word_list = word_tokenize(test)\n",
        "#   words = [word for word in word_list if word.isalpha()]\n",
        "\n",
        "#   stop_words = set(stopwords.words('english'))\n",
        "#   filtered_words = [w for w in words if not w in stop_words]\n",
        "#   print(word_list)\n",
        "#   print(test)\n",
        "#   print(classifier(test))\n",
        "#   print(classifier(word_list))\n",
        "#   print(words)\n",
        "#   print(classifier(words))\n",
        "#   print(filtered_words)\n",
        "#   print(classifier(filtered_words))\n",
        "#   joint_sentence = ' '.join(words)\n",
        "#   print(joint_sentence)\n",
        "#   print(classifier(joint_sentence))"
      ],
      "metadata": {
        "id": "akgY-Bdw0KHo"
      },
      "execution_count": null,
      "outputs": []
    },
    {
      "cell_type": "code",
      "source": [
        "class DQRL_Trader():\n",
        "\n",
        "  def __init__(self, state_size, action_space=3):\n",
        "    self.state_size = state_size\n",
        "    self.action_space = action_space    \n",
        "    self.memory = deque(maxlen=1500)\n",
        "    self.inventory = []\n",
        "    self.n_data_inputs = 5 # open, open_avg_diff_5_days, open_avg_diff_5_days, portfolio_value, number_of_stocks, sentiment (=6 if including sentiment)\n",
        "\n",
        "    self.gamma = 0.95\n",
        "    self.epsilon = 1.0\n",
        "    self.epsilon_min = 0.1\n",
        "    self.epsilon_decay = 0.995\n",
        "    self.learning_rate = 0.001\n",
        "\n",
        "    self.model = self.model_builder()\n",
        "\n",
        "  def model_builder(self):\n",
        "    init = tf.keras.initializers.HeUniform(seed=1)\n",
        "    model = tf.keras.models.Sequential([\n",
        "        tf.keras.layers.Dense(64, activation='relu', input_shape=(self.state_size, self.n_data_inputs), kernel_initializer=init),\n",
        "        tf.keras.layers.Dense(64, activation='relu', kernel_initializer=init),\n",
        "        tf.keras.layers.Dense(64, activation='relu', kernel_initializer=init),\n",
        "        # tf.keras.layers.Dense(64, activation='relu', kernel_initializer=init),\n",
        "        tf.keras.layers.Flatten(),\n",
        "        tf.keras.layers.Dense(self.action_space, activation='linear', kernel_initializer=init)\n",
        "    ])\n",
        "    model.compile(loss=tf.keras.losses.Huber(), optimizer=tf.keras.optimizers.Adam(learning_rate=self.learning_rate))\n",
        "    return model \n",
        "\n",
        "  def trade(self, state):\n",
        "    if random.random() <= self.epsilon:\n",
        "      return random.randrange(self.action_space)\n",
        "    else:\n",
        "      options = self.model.predict(state)\n",
        "      # print('options', options)\n",
        "    return np.argmax(options[0])\n",
        "\n",
        "  def batch_Q_learn(self, batch_size):\n",
        "    mini_batch = []\n",
        "    mem = len(self.memory)\n",
        "    # print('len(self.memory) = ', L)\n",
        "    for i in range(mem - batch_size + 1, mem):\n",
        "      mini_batch.append(self.memory[i])\n",
        "\n",
        "    for state, action, reward, next_state, done in mini_batch:\n",
        "      target = reward\n",
        "      if not done:\n",
        "        target = reward + self.gamma * np.amax(self.model.predict(next_state)[0])\n",
        "      \n",
        "      target_func = self.model.predict(state)\n",
        "      # print('len target_func[0]', len(target_func[0]))\n",
        "      # print('state ', state)\n",
        "      # print('action ', action)\n",
        "      target_func[0][action] = target\n",
        "      self.model.fit(state, target_func, epochs=1, verbose=0)\n",
        "\n",
        "      if self.epsilon > self.epsilon_min:\n",
        "        self.epsilon *= self.epsilon_decay\n"
      ],
      "metadata": {
        "id": "-AfsgVbW2vJ2"
      },
      "execution_count": null,
      "outputs": []
    },
    {
      "cell_type": "code",
      "source": [
        "def price_format(p):\n",
        "  return ('-$' if p<0 else '$') + '{0:.2f}'.format(abs(p))\n",
        "\n",
        "def sigmoid(x):\n",
        "  return 1/(1+np.exp(-x))"
      ],
      "metadata": {
        "id": "LChk2IAKKtKg"
      },
      "execution_count": null,
      "outputs": []
    },
    {
      "cell_type": "code",
      "source": [
        "# N-day state representation ending at time t\n",
        "def create_state(data, time_step, window_size, portfolio, n_stocks):\n",
        "  start_index = time_step - window_size + 1\n",
        "  data_window = data[start_index : time_step+1] if start_index >= 0 else (-start_index * [data[0]]) + list(data[0 : time_step+1])\n",
        "  # print(len(data_window), window_size)\n",
        "  state=[]\n",
        "  for i in range(len(data_window) -1):\n",
        "    indicators = sigmoid(data_window[i+1] - data_window[i]).flatten()\n",
        "    joint = [*indicators, portfolio, n_stocks]\n",
        "    state.append(joint)\n",
        "    # print(sigmoid(data_window[i+1] - data_window[i]))\n",
        "\n",
        "  return np.array(state).astype('float32')"
      ],
      "metadata": {
        "id": "qbIECTSf229s"
      },
      "execution_count": null,
      "outputs": []
    },
    {
      "cell_type": "code",
      "source": [
        "start_date = '2021-01-01'; end_date = '2022-01-01'\n",
        "stock_choice = 'TSLA' # 'AAPL','AMD','AMZN','FB','GOOG','GOOGL','MSFT','NFLX','NVDA'\n",
        "stock_bars = rest_client.get_bars(stock_choice, TimeFrame.Day, start_date, end_date).df\n",
        "\n",
        "# async def live_news_data(news):\n",
        "# \tprint(news)\n",
        "\n",
        "# stream_client.subscribe_news(live_news_data, stock_choice)\n",
        "# stream_client.run()\n",
        "\n",
        "# print(stock_bars)\n",
        "# stock_dates = str(stock_bars.index[i][:10])\n",
        "stock_open = stock_bars['open']\n",
        "# print(stock_open)\n",
        "\n",
        "# Compute the difference between the opening price of a day with the mean opening price over a previous set of days e.g. 5 and 50\n",
        "def avg_open_diff(open_price_data, n_days, start_index):\n",
        "  # if start_index < n_days:\n",
        "  #   print('Beware the moving average difference in opening price is only computed over the last {} day(s), as opposed to {}.'.format(start_index, n_days))\n",
        "  if start_index < len(open_price_data):\n",
        "    start_price = open_price_data[start_index]\n",
        "    prior_avg_price = open_price_data[start_index-n_days : start_index].mean()\n",
        "    diff = start_price - prior_avg_price if start_index-n_days >= 0 else start_price - open_price_data[:start_index].mean()\n",
        "    return diff\n",
        "  else:\n",
        "    return IndexError('Failed to compute moving average difference: invalid request')\n",
        "\n",
        "def create_avg_diff_data(data, n):\n",
        "  stock_avg_diff_n = [0] # avg diff = 0 for first open price\n",
        "  for i in range(1, len(data)):\n",
        "    stock_avg_diff_n_i = avg_open_diff(data, n, i)\n",
        "    stock_avg_diff_n.append(stock_avg_diff_n_i)\n",
        "  return np.array(stock_avg_diff_n)\n",
        "\n",
        "stock_avg_diff_5 = create_avg_diff_data(stock_open, 5)\n",
        "stock_avg_diff_50 = create_avg_diff_data(stock_open, 50)\n",
        "\n",
        "stock_data = np.transpose([stock_open, stock_avg_diff_5, stock_avg_diff_50])#.astype(np.float16)\n",
        "\n",
        "news = rest_client.get_news(stock_choice, start_date, end_date, limit=10)\n",
        "print(type(news))\n",
        "N_news = len(news)\n",
        "NEG, POS, NEU = 0, 0, 0\n",
        "for i in range(N_news):\n",
        "  # print(news_data_processor(news[i])[2])\n",
        "  news_date = news_data_processor(news[i])[2]\n",
        "  sentim = news_data_processor(news[i])[1][0]\n",
        "  if sentim['label'] == 'NEG':\n",
        "    NEG+=1\n",
        "  elif sentim['label'] == 'POS':\n",
        "    POS+=1\n",
        "  elif sentim['label'] == 'NEU':\n",
        "    NEU+=1\n",
        "# print(NEG, POS, NEU)\n",
        "  # print(news_data_processor(news[i])[0])\n",
        "  # print(news_data_processor(news[i])[1])\n",
        "  # print('\\n')\n"
      ],
      "metadata": {
        "id": "GWumupswAW56"
      },
      "execution_count": null,
      "outputs": []
    },
    {
      "cell_type": "code",
      "source": [
        "window_size = 10 # days inbetween action e.g. buy/sell/sit\n",
        "epochs = 1000\n",
        "batch_size = 32\n",
        "data = stock_data     \n",
        "N_data = len(data)-1\n",
        "\n",
        "trader = DQRL_Trader(window_size)\n",
        "trader.model.summary()"
      ],
      "metadata": {
        "id": "Fo5fUuqi1dr7",
        "colab": {
          "base_uri": "https://localhost:8080/"
        },
        "outputId": "26e7b157-20ed-417b-c990-a137e131cfbc"
      },
      "execution_count": null,
      "outputs": [
        {
          "output_type": "stream",
          "name": "stdout",
          "text": [
            "Model: \"sequential_24\"\n",
            "_________________________________________________________________\n",
            " Layer (type)                Output Shape              Param #   \n",
            "=================================================================\n",
            " dense_107 (Dense)           (None, 10, 64)            384       \n",
            "                                                                 \n",
            " dense_108 (Dense)           (None, 10, 64)            4160      \n",
            "                                                                 \n",
            " dense_109 (Dense)           (None, 10, 64)            4160      \n",
            "                                                                 \n",
            " flatten_9 (Flatten)         (None, 640)               0         \n",
            "                                                                 \n",
            " dense_110 (Dense)           (None, 3)                 1923      \n",
            "                                                                 \n",
            "=================================================================\n",
            "Total params: 10,627\n",
            "Trainable params: 10,627\n",
            "Non-trainable params: 0\n",
            "_________________________________________________________________\n"
          ]
        }
      ]
    },
    {
      "cell_type": "code",
      "source": [
        "for epoch in range(epochs):\n",
        "  print('Epoch {}/{} ...'.format(epoch+1, epochs))\n",
        "\n",
        "  # state = create_state(data, 0, window_size+1)\n",
        "  trader.inventory = []\n",
        "  total_profit = 0\n",
        "  n_stocks_owned = 10\n",
        "  initial_funds = 1000\n",
        "  portfolio_value = (n_stocks_owned * data[0][0]) + initial_funds\n",
        "\n",
        "  state = create_state(data, 0, window_size+1, portfolio_value, n_stocks_owned)\n",
        "  # print(state)\n",
        "\n",
        "  for t in range(N_data):\n",
        "    action = trader.trade(state)\n",
        "    # next_state = create_state(data, t+1, window_size+1)\n",
        "    next_state = create_state(data, t+1, window_size+1, portfolio_value, n_stocks_owned)\n",
        "    reward = 0\n",
        "\n",
        "    if portfolio_value < data[t][0] or n_stocks_owned == 0: # punish inability to buy/sell stock\n",
        "      reward = -10\n",
        "\n",
        "    if portfolio_value < data[t][0] and n_stocks_owned == 0: # huge penalty for bankcruptcy\n",
        "      reward = -100 \n",
        "\n",
        "    if action == 0: # punish repeated sitting over time\n",
        "      print('Sitting...')\n",
        "      reward = -0.1\n",
        "    \n",
        "    elif action == 1 and portfolio_value >= data[t][0]: # buy\n",
        "      n_stocks_owned += 1\n",
        "      portfolio_value -= data[t][0]\n",
        "      trader.inventory.append(data[t])\n",
        "      print('Trader bought a stock for {}'.format(price_format(data[t][0])))\n",
        "      print('Total portfolio value: {} | Number of stocks: {}'.format(price_format(portfolio_value), n_stocks_owned))\n",
        "\n",
        "    elif action == 2 and len(trader.inventory) > 0: # sell\n",
        "      bought_price = trader.inventory.pop(0)\n",
        "      n_stocks_owned -= 1\n",
        "      portfolio_value += data[t][0]\n",
        "      # print('bought_price: ', bought_price)\n",
        "      if data[t][0] - bought_price[0] > 0:\n",
        "        reward = 1\n",
        "      elif data[t][0] - bought_price[0] == 0:\n",
        "        reward = 0\n",
        "      else:\n",
        "        reward = -1\n",
        "\n",
        "      total_profit += data[t][0] - bought_price[0]\n",
        "      print('Trader sold one stock at {} | Transaction profit: {}'.format(price_format(data[t][0]), price_format(data[t][0] - bought_price[0])))\n",
        "      print('Total portfolio value: {} | Number of stocks: {}'.format(price_format(portfolio_value), n_stocks_owned))\n",
        "\n",
        "    done = True if t == N_data-1 else False\n",
        "\n",
        "    trader.memory.append([state, action, reward, next_state, done])\n",
        "    print('memory', trader.memory)\n",
        "\n",
        "    state = next_state\n",
        "\n",
        "    if done:\n",
        "      print('\\n Total profit = {} \\n'.format(price_format(total_profit)))\n",
        "\n",
        "    if len(trader.memory) > batch_size:\n",
        "      trader.batch_Q_learn(batch_size)"
      ],
      "metadata": {
        "id": "MpZu4kfN_dPk"
      },
      "execution_count": null,
      "outputs": []
    },
    {
      "cell_type": "code",
      "source": [
        "state_data, action_data = [], []\n",
        "for i in range(len(trader.memory)):\n",
        "  state_data.append(np.squeeze(trader.memory[i][0]))\n",
        "  action_data.append(np.squeeze(trader.memory[i][1]))  \n",
        "\n",
        "print(np.array(state_data[4]))"
      ],
      "metadata": {
        "id": "gob_9-SiLnh7"
      },
      "execution_count": null,
      "outputs": []
    }
  ]
}
